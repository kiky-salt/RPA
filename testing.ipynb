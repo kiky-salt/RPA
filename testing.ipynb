from automagica import *
browser = Chrome()
browser.get('https://www.wikipedia.org')
search_bar = browser.by_xpath('//*[@id="searchInput"]')
# Type in the search bar
search_bar.send_keys('einstein')

# Submit the query
search_bar.submit()

text_element = browser.find_element_by_xpath('//*[@id="mw-content-text"]')

# Extract the text from the element
wiki_text = text_element.text

# Quit the browser
browser.quit()

# Print the text to show the result
print(wiki_text)

# Save text to a .txt file
textfile = make_text_file(text=wiki_text, output_path=desktop_path('einstein.txt'))
